{
 "cells": [
  {
   "cell_type": "code",
   "execution_count": 3,
   "id": "f0e23c8c-4115-4ad7-ad56-196a2fc3fbe5",
   "metadata": {},
   "outputs": [
    {
     "name": "stdout",
     "output_type": "stream",
     "text": [
      "[9, 10]\n"
     ]
    }
   ],
   "source": [
    "input_list = [1,2,3,4, [5,6,7, [8,9]]] #list i will be working with \n",
    "def recursion_list(input_list):\n",
    "    if not input_list:  \n",
    "        return []\n",
    "\n",
    "    if isinstance(input_list[-1], list): #recursion \n",
    "        return innerlist(input_list[-1])\n",
    "        \n",
    "    return [x + 1 for x in input_list]\n",
    "result = recursion_list(input_list)\n",
    "print(result)"
   ]
  }
 ],
 "metadata": {
  "kernelspec": {
   "display_name": "Python 3 (ipykernel)",
   "language": "python",
   "name": "python3"
  },
  "language_info": {
   "codemirror_mode": {
    "name": "ipython",
    "version": 3
   },
   "file_extension": ".py",
   "mimetype": "text/x-python",
   "name": "python",
   "nbconvert_exporter": "python",
   "pygments_lexer": "ipython3",
   "version": "3.12.5"
  }
 },
 "nbformat": 4,
 "nbformat_minor": 5
}
